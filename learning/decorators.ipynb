{
 "cells": [
  {
   "cell_type": "code",
   "execution_count": null,
   "id": "initial_id",
   "metadata": {
    "collapsed": true
   },
   "outputs": [],
   "source": [
    "def foo():\n",
    "    print('Call')\n",
    "    \n",
    "data = [1, 2]\n",
    "\n",
    "data[0] = foo\n",
    "\n",
    "data[0]()\n",
    "\n"
   ]
  },
  {
   "cell_type": "code",
   "execution_count": null,
   "outputs": [],
   "source": [
    "def wrapper (any_funсtion, *args, **kwargs):\n",
    "    print(f'Сейчас будет вызвана функция {any_funсtion}')\n",
    "    print(f'С аргументами {args} и {kwargs}')\n",
    "    result = any_funсtion(*args, **kwargs)\n",
    "    print(f'Получен результат {result}')\n",
    "    return result\n",
    "\n",
    "wrapper(any, (False, False,0, 1))"
   ],
   "metadata": {
    "collapsed": false
   },
   "id": "24356cecfe62c60"
  },
  {
   "cell_type": "code",
   "execution_count": null,
   "outputs": [],
   "source": [
    "def foo(a, b):\n",
    "    return f'{a} {b}'\n",
    "\n",
    "wrapper(foo, 4, 'bla')"
   ],
   "metadata": {
    "collapsed": false
   },
   "id": "e5a430f054a0eae4"
  },
  {
   "cell_type": "markdown",
   "source": [],
   "metadata": {
    "collapsed": false
   },
   "id": "6c2d59ffcfc04cdb"
  },
  {
   "cell_type": "code",
   "execution_count": 27,
   "outputs": [],
   "source": [
    "\n",
    "def printable(any_funсtion):\n",
    "    @wraps(any_function)\n",
    "    def new_function(*args, **kwargs):    \n",
    "        print(f'Сейчас будет вызвана функция {any_funсtion}')\n",
    "        print(f'С аргументами {args} и {kwargs}')\n",
    "        result = any_funсtion(*args, **kwargs)\n",
    "        # print(f'Получен результат {result}')\n",
    "        return result\n",
    "    return new_function\n",
    "\n",
    "def foo(a, b):\n",
    "    return f'{a} {b}'"
   ],
   "metadata": {
    "collapsed": false,
    "ExecuteTime": {
     "end_time": "2023-08-09T18:29:25.071009900Z",
     "start_time": "2023-08-09T18:29:25.063889300Z"
    }
   },
   "id": "fd243c6b203515dc"
  },
  {
   "cell_type": "code",
   "execution_count": null,
   "outputs": [],
   "source": [
    "foo = wrapper(foo)\n",
    "foo(1, 4)"
   ],
   "metadata": {
    "collapsed": false
   },
   "id": "6916652604c96e8"
  },
  {
   "cell_type": "code",
   "execution_count": 30,
   "outputs": [
    {
     "name": "stdout",
     "output_type": "stream",
     "text": [
      "Сейчас будет вызвана функция <function foo at 0x000001F675C9D6C0>\n",
      "С аргументами (1, 4) и {}\n"
     ]
    },
    {
     "data": {
      "text/plain": "'1 4'"
     },
     "execution_count": 30,
     "metadata": {},
     "output_type": "execute_result"
    }
   ],
   "source": [
    "@printable\n",
    "def foo(a, b):\n",
    "    return f'{a} {b}'\n",
    "\n",
    "foo(1, 4)"
   ],
   "metadata": {
    "collapsed": false,
    "ExecuteTime": {
     "end_time": "2023-08-09T18:30:01.595345400Z",
     "start_time": "2023-08-09T18:30:01.586626200Z"
    }
   },
   "id": "1183a77263974c45"
  },
  {
   "cell_type": "code",
   "execution_count": 29,
   "outputs": [
    {
     "name": "stdout",
     "output_type": "stream",
     "text": [
      "Сейчас будет вызвана функция <function bar at 0x000001F6755E7920>\n",
      "С аргументами () и {}\n",
      "bar\n"
     ]
    }
   ],
   "source": [
    "@printable\n",
    "def bar():\n",
    "    print('bar')\n",
    "    \n",
    "\n",
    "bar()"
   ],
   "metadata": {
    "collapsed": false,
    "ExecuteTime": {
     "end_time": "2023-08-09T18:29:53.540779600Z",
     "start_time": "2023-08-09T18:29:53.534346700Z"
    }
   },
   "id": "708aa9df167f5143"
  },
  {
   "cell_type": "code",
   "execution_count": 38,
   "outputs": [
    {
     "name": "stdout",
     "output_type": "stream",
     "text": [
      "Сейчас будет вызвана функция get_swapi_person\n",
      "С аргументами (3,) и {}\n",
      "work time get_swapi_person: 0:00:00.198905\n"
     ]
    },
    {
     "data": {
      "text/plain": "{'name': 'R2-D2',\n 'height': '96',\n 'mass': '32',\n 'hair_color': 'n/a',\n 'skin_color': 'white, blue',\n 'eye_color': 'red',\n 'birth_year': '33BBY',\n 'gender': 'n/a',\n 'homeworld': 'https://swapi.py4e.com/api/planets/8/',\n 'films': ['https://swapi.py4e.com/api/films/1/',\n  'https://swapi.py4e.com/api/films/2/',\n  'https://swapi.py4e.com/api/films/3/',\n  'https://swapi.py4e.com/api/films/4/',\n  'https://swapi.py4e.com/api/films/5/',\n  'https://swapi.py4e.com/api/films/6/',\n  'https://swapi.py4e.com/api/films/7/'],\n 'species': ['https://swapi.py4e.com/api/species/2/'],\n 'vehicles': [],\n 'starships': [],\n 'created': '2014-12-10T15:11:50.376000Z',\n 'edited': '2014-12-20T21:17:50.311000Z',\n 'url': 'https://swapi.py4e.com/api/people/3/'}"
     },
     "execution_count": 38,
     "metadata": {},
     "output_type": "execute_result"
    }
   ],
   "source": [
    "import requests\n",
    "import datetime\n",
    "from functools import wraps\n",
    "\n",
    "def printable(any_funсtion):\n",
    "    @wraps(any_funсtion)\n",
    "    def new_function(*args, **kwargs):    \n",
    "        print(f'Сейчас будет вызвана функция {any_funсtion.__name__}')\n",
    "        print(f'С аргументами {args} и {kwargs}')\n",
    "        result = any_funсtion(*args, **kwargs)\n",
    "        # print(f'Получен результат {result}')\n",
    "        return result\n",
    "    return new_function\n",
    "\n",
    "\n",
    "def speed_check(any_function):\n",
    "    @wraps(any_function)\n",
    "    def new_function(*args, **kwargs):\n",
    "        start = datetime.datetime.now()\n",
    "        result = any_function(*args, **kwargs)\n",
    "        work_time = datetime.datetime.now() - start\n",
    "        print(f'work time {new_function.__name__}: {work_time}')\n",
    "        return result\n",
    "    return new_function\n",
    "        \n",
    "        \n",
    "@speed_check\n",
    "@printable\n",
    "def get_swapi_person(person_id):\n",
    "    return requests.get(f'https://swapi.py4e.com/api/people/{person_id}').json()\n",
    "\n",
    "get_swapi_person(3)\n",
    "\n",
    "# print(person)\n",
    "\n"
   ],
   "metadata": {
    "collapsed": false,
    "ExecuteTime": {
     "end_time": "2023-08-09T18:41:05.957238200Z",
     "start_time": "2023-08-09T18:41:05.749740500Z"
    }
   },
   "id": "bfe949c0703685ff"
  }
 ],
 "metadata": {
  "kernelspec": {
   "display_name": "Python 3",
   "language": "python",
   "name": "python3"
  },
  "language_info": {
   "codemirror_mode": {
    "name": "ipython",
    "version": 2
   },
   "file_extension": ".py",
   "mimetype": "text/x-python",
   "name": "python",
   "nbconvert_exporter": "python",
   "pygments_lexer": "ipython2",
   "version": "2.7.6"
  }
 },
 "nbformat": 4,
 "nbformat_minor": 5
}
