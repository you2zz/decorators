{
 "cells": [
  {
   "cell_type": "code",
   "execution_count": null,
   "id": "initial_id",
   "metadata": {
    "collapsed": true
   },
   "outputs": [],
   "source": [
    "def foo():\n",
    "    print('Call')\n",
    "    \n",
    "data = [1, 2]\n",
    "\n",
    "data[0] = foo\n",
    "\n",
    "data[0]()\n",
    "\n"
   ]
  },
  {
   "cell_type": "code",
   "execution_count": null,
   "outputs": [],
   "source": [
    "def wrapper (any_funсtion, *args, **kwargs):\n",
    "    print(f'Сейчас будет вызвана функция {any_funсtion}')\n",
    "    print(f'С аргументами {args} и {kwargs}')\n",
    "    result = any_funсtion(*args, **kwargs)\n",
    "    print(f'Получен результат {result}')\n",
    "    return result\n",
    "\n",
    "wrapper(any, (False, False,0, 1))"
   ],
   "metadata": {
    "collapsed": false
   },
   "id": "24356cecfe62c60"
  },
  {
   "cell_type": "code",
   "execution_count": null,
   "outputs": [],
   "source": [
    "def foo(a, b):\n",
    "    return f'{a} {b}'\n",
    "\n",
    "wrapper(foo, 4, 'bla')"
   ],
   "metadata": {
    "collapsed": false
   },
   "id": "e5a430f054a0eae4"
  },
  {
   "cell_type": "markdown",
   "source": [],
   "metadata": {
    "collapsed": false
   },
   "id": "6c2d59ffcfc04cdb"
  },
  {
   "cell_type": "code",
   "execution_count": null,
   "outputs": [],
   "source": [
    "def pritable(any_funсtion):\n",
    "    def new_function(*args, **kwargs):    \n",
    "        print(f'Сейчас будет вызвана функция {any_funсtion}')\n",
    "        print(f'С аргументами {args} и {kwargs}')\n",
    "        result = any_funсtion(*args, **kwargs)\n",
    "        print(f'Получен результат {result}')\n",
    "        return result\n",
    "    return new_function\n",
    "\n",
    "def foo(a, b):\n",
    "    return f'{a} {b}'"
   ],
   "metadata": {
    "collapsed": false
   },
   "id": "fd243c6b203515dc"
  },
  {
   "cell_type": "code",
   "execution_count": null,
   "outputs": [],
   "source": [
    "foo = wrapper(foo)\n",
    "foo(1, 4)"
   ],
   "metadata": {
    "collapsed": false
   },
   "id": "6916652604c96e8"
  },
  {
   "cell_type": "code",
   "execution_count": null,
   "outputs": [],
   "source": [
    "@pritable\n",
    "def foo(a, b):\n",
    "    return f'{a} {b}'\n",
    "\n",
    "foo(1, 4)"
   ],
   "metadata": {
    "collapsed": false
   },
   "id": "1183a77263974c45"
  },
  {
   "cell_type": "code",
   "execution_count": null,
   "outputs": [],
   "source": [
    "@pritable\n",
    "def bar():\n",
    "    print('bar')\n",
    "    \n",
    "\n",
    "bar()"
   ],
   "metadata": {
    "collapsed": false
   },
   "id": "708aa9df167f5143"
  },
  {
   "cell_type": "code",
   "execution_count": 12,
   "outputs": [
    {
     "name": "stdout",
     "output_type": "stream",
     "text": [
      "<function pritable.<locals>.new_function at 0x000001F6757387C0>\n"
     ]
    }
   ],
   "source": [
    "import json\n",
    "import requests\n",
    "\n",
    "def speed_check(any_function):\n",
    "    def new_function(*args, **kwargs):\n",
    "        \n",
    "        result = any_function(*args, **kwargs)\n",
    "        return result\n",
    "    return new_function()\n",
    "        \n",
    "        \n",
    "\n",
    "@pritable\n",
    "def get_swapi_person(person_id):\n",
    "    return requests.get(f'https://swapi.py4e.com/api/people/{person_id}').json()\n",
    "\n",
    "# person = get_swapi_person(3)\n",
    "# \n",
    "# print(person)\n",
    "    \n",
    "print(get_swapi_person)\n"
   ],
   "metadata": {
    "collapsed": false,
    "ExecuteTime": {
     "end_time": "2023-08-09T17:39:45.364932800Z",
     "start_time": "2023-08-09T17:39:45.358497900Z"
    }
   },
   "id": "bfe949c0703685ff"
  }
 ],
 "metadata": {
  "kernelspec": {
   "display_name": "Python 3",
   "language": "python",
   "name": "python3"
  },
  "language_info": {
   "codemirror_mode": {
    "name": "ipython",
    "version": 2
   },
   "file_extension": ".py",
   "mimetype": "text/x-python",
   "name": "python",
   "nbconvert_exporter": "python",
   "pygments_lexer": "ipython2",
   "version": "2.7.6"
  }
 },
 "nbformat": 4,
 "nbformat_minor": 5
}
