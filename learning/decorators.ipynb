{
 "cells": [
  {
   "cell_type": "code",
   "execution_count": null,
   "id": "initial_id",
   "metadata": {
    "collapsed": true
   },
   "outputs": [],
   "source": [
    "def foo():\n",
    "    print('Call')\n",
    "    \n",
    "data = [1, 2]\n",
    "\n",
    "data[0] = foo\n",
    "\n",
    "data[0]()\n",
    "\n"
   ]
  },
  {
   "cell_type": "code",
   "execution_count": null,
   "outputs": [],
   "source": [
    "def wrapper (any_funсtion, *args, **kwargs):\n",
    "    print(f'Сейчас будет вызвана функция {any_funсtion}')\n",
    "    print(f'С аргументами {args} и {kwargs}')\n",
    "    result = any_funсtion(*args, **kwargs)\n",
    "    print(f'Получен результат {result}')\n",
    "    return result\n",
    "\n",
    "wrapper(any, (False, False,0, 1))"
   ],
   "metadata": {
    "collapsed": false,
    "is_executing": true
   },
   "id": "24356cecfe62c60"
  },
  {
   "cell_type": "code",
   "execution_count": null,
   "outputs": [],
   "source": [
    "def foo(a, b):\n",
    "    return f'{a} {b}'\n",
    "\n",
    "wrapper(foo, 4, 'bla')"
   ],
   "metadata": {
    "collapsed": false
   },
   "id": "e5a430f054a0eae4"
  },
  {
   "cell_type": "markdown",
   "source": [],
   "metadata": {
    "collapsed": false
   },
   "id": "6c2d59ffcfc04cdb"
  },
  {
   "cell_type": "code",
   "execution_count": null,
   "outputs": [],
   "source": [
    "\n",
    "def printable(any_funсtion):\n",
    "    @wraps(any_function)\n",
    "    def new_function(*args, **kwargs):    \n",
    "        print(f'Сейчас будет вызвана функция {any_funсtion}')\n",
    "        print(f'С аргументами {args} и {kwargs}')\n",
    "        result = any_funсtion(*args, **kwargs)\n",
    "        # print(f'Получен результат {result}')\n",
    "        return result\n",
    "    return new_function\n",
    "\n",
    "def foo(a, b):\n",
    "    return f'{a} {b}'"
   ],
   "metadata": {
    "collapsed": false
   },
   "id": "fd243c6b203515dc"
  },
  {
   "cell_type": "code",
   "execution_count": null,
   "outputs": [],
   "source": [
    "foo = wrapper(foo)\n",
    "foo(1, 4)"
   ],
   "metadata": {
    "collapsed": false
   },
   "id": "6916652604c96e8"
  },
  {
   "cell_type": "code",
   "execution_count": null,
   "outputs": [],
   "source": [
    "@printable\n",
    "def foo(a, b):\n",
    "    return f'{a} {b}'\n",
    "\n",
    "foo(1, 4)"
   ],
   "metadata": {
    "collapsed": false
   },
   "id": "1183a77263974c45"
  },
  {
   "cell_type": "code",
   "execution_count": null,
   "outputs": [],
   "source": [
    "@printable\n",
    "def bar():\n",
    "    print('bar')\n",
    "    \n",
    "\n",
    "bar()"
   ],
   "metadata": {
    "collapsed": false
   },
   "id": "708aa9df167f5143"
  },
  {
   "cell_type": "code",
   "execution_count": null,
   "outputs": [],
   "source": [
    "import requests\n",
    "import datetime\n",
    "from functools import wraps\n",
    "\n",
    "def printable(any_funсtion):\n",
    "    @wraps(any_funсtion)\n",
    "    def new_function(*args, **kwargs):    \n",
    "        print(f'Сейчас будет вызвана функция {any_funсtion.__name__}')\n",
    "        print(f'С аргументами {args} и {kwargs}')\n",
    "        result = any_funсtion(*args, **kwargs)\n",
    "        # print(f'Получен результат {result}')\n",
    "        return result\n",
    "    return new_function\n",
    "\n",
    "\n",
    "def speed_check(any_function):\n",
    "    @wraps(any_function)\n",
    "    def new_function(*args, **kwargs):\n",
    "        start = datetime.datetime.now()\n",
    "        result = any_function(*args, **kwargs)\n",
    "        work_time = datetime.datetime.now() - start\n",
    "        print(f'work time {new_function.__name__}: {work_time}')\n",
    "        return result\n",
    "    return new_function\n",
    "        \n",
    "        \n",
    "@speed_check\n",
    "@printable\n",
    "def get_swapi_person(person_id):\n",
    "    return requests.get(f'https://swapi.py4e.com/api/people/{person_id}').json()\n",
    "\n",
    "get_swapi_person(3)\n",
    "\n",
    "# print(person)\n",
    "\n"
   ],
   "metadata": {
    "collapsed": false
   },
   "id": "bfe949c0703685ff"
  },
  {
   "cell_type": "code",
   "execution_count": null,
   "outputs": [],
   "source": [
    "# ШАБЛОН ДЕКОРАТОРА\n",
    "\n",
    "def cashed(any_function):\n",
    "\n",
    "    def new_function(*args, **kwargs):\n",
    "\n",
    "        result = any_function(*args, **kwargs)\n",
    "        \n",
    "        return result\n",
    "    \n",
    "    return new_function"
   ],
   "metadata": {
    "collapsed": false
   },
   "id": "fd3b4ca630ef86ae"
  },
  {
   "cell_type": "code",
   "execution_count": 9,
   "outputs": [
    {
     "name": "stdout",
     "output_type": "stream",
     "text": [
      "Hello World\n",
      "10\n"
     ]
    }
   ],
   "source": [
    "import os\n",
    "from functools import wraps\n",
    "import logging\n",
    "import datetime\n",
    "\n",
    "def logger(old_function):\n",
    "    @wraps(old_function)\n",
    "    def new_function(*args, **kwargs):\n",
    "        logging.basicConfig(filename=\"main.log\", filemode=\"w\",level=logging.INFO, format=\"%(message)s\", encoding='utf-8')\n",
    "        call_time = datetime.datetime.now()\n",
    "        result = old_function(*args, **kwargs)\n",
    "        logging.info(f'call time: {call_time}; function name: {new_function.__name__}, with arguments: {args} and {kwargs}, returned: {result}')\n",
    "        return result\n",
    "        \n",
    "    return new_function\n",
    "@logger\n",
    "def ariph(a=0, b=0):\n",
    "    res = a + b\n",
    "    return res\n",
    "\n",
    "@logger\n",
    "def hello_world():\n",
    "    return 'Hello World'\n",
    "\n",
    "print(hello_world())\n",
    "\n",
    "print(ariph(5, 5))"
   ],
   "metadata": {
    "collapsed": false,
    "ExecuteTime": {
     "end_time": "2023-08-11T07:18:35.011284600Z",
     "start_time": "2023-08-11T07:18:34.996546100Z"
    }
   },
   "id": "841b6dfc26623cf0"
  },
  {
   "cell_type": "code",
   "execution_count": 2,
   "outputs": [
    {
     "ename": "FileNotFoundError",
     "evalue": "[Errno 2] No such file or directory: 'data/main_2.log'",
     "output_type": "error",
     "traceback": [
      "\u001B[1;31m---------------------------------------------------------------------------\u001B[0m",
      "\u001B[1;31mFileNotFoundError\u001B[0m                         Traceback (most recent call last)",
      "Cell \u001B[1;32mIn[2], line 32\u001B[0m\n\u001B[0;32m     28\u001B[0m \u001B[38;5;129m@logger\u001B[39m(path\u001B[38;5;241m=\u001B[39m\u001B[38;5;124m'\u001B[39m\u001B[38;5;124mdata/main_2.log\u001B[39m\u001B[38;5;124m'\u001B[39m)\n\u001B[0;32m     29\u001B[0m \u001B[38;5;28;01mdef\u001B[39;00m \u001B[38;5;21mhello_world\u001B[39m():\n\u001B[0;32m     30\u001B[0m     \u001B[38;5;28;01mreturn\u001B[39;00m \u001B[38;5;124m'\u001B[39m\u001B[38;5;124mHello World\u001B[39m\u001B[38;5;124m'\u001B[39m\n\u001B[1;32m---> 32\u001B[0m \u001B[38;5;28mprint\u001B[39m(\u001B[43mhello_world\u001B[49m\u001B[43m(\u001B[49m\u001B[43m)\u001B[49m)\n\u001B[0;32m     34\u001B[0m \u001B[38;5;28mprint\u001B[39m(ariph(\u001B[38;5;241m5\u001B[39m, \u001B[38;5;241m5\u001B[39m))\n",
      "Cell \u001B[1;32mIn[2], line 12\u001B[0m, in \u001B[0;36mlogger.<locals>.__logger.<locals>.new_function\u001B[1;34m(*args, **kwargs)\u001B[0m\n\u001B[0;32m      9\u001B[0m \u001B[38;5;129m@wraps\u001B[39m(old_function)\n\u001B[0;32m     10\u001B[0m \u001B[38;5;28;01mdef\u001B[39;00m \u001B[38;5;21mnew_function\u001B[39m(\u001B[38;5;241m*\u001B[39margs, \u001B[38;5;241m*\u001B[39m\u001B[38;5;241m*\u001B[39mkwargs):            \n\u001B[0;32m     11\u001B[0m     result \u001B[38;5;241m=\u001B[39m old_function(\u001B[38;5;241m*\u001B[39margs, \u001B[38;5;241m*\u001B[39m\u001B[38;5;241m*\u001B[39mkwargs)\n\u001B[1;32m---> 12\u001B[0m     \u001B[38;5;28;01mwith\u001B[39;00m \u001B[38;5;28;43mopen\u001B[39;49m\u001B[43m \u001B[49m\u001B[43m(\u001B[49m\u001B[43mpath\u001B[49m\u001B[43m,\u001B[49m\u001B[43m \u001B[49m\u001B[38;5;124;43m'\u001B[39;49m\u001B[38;5;124;43ma\u001B[39;49m\u001B[38;5;124;43m'\u001B[39;49m\u001B[43m,\u001B[49m\u001B[43m \u001B[49m\u001B[43mencoding\u001B[49m\u001B[38;5;241;43m=\u001B[39;49m\u001B[38;5;124;43m'\u001B[39;49m\u001B[38;5;124;43mutf-8\u001B[39;49m\u001B[38;5;124;43m'\u001B[39;49m\u001B[43m)\u001B[49m \u001B[38;5;28;01mas\u001B[39;00m f_log:\n\u001B[0;32m     13\u001B[0m         f_log\u001B[38;5;241m.\u001B[39mwrite(\u001B[38;5;124mf\u001B[39m\u001B[38;5;124m'\u001B[39m\u001B[38;5;130;01m\\n\u001B[39;00m\u001B[38;5;124mcall time: \u001B[39m\u001B[38;5;132;01m{\u001B[39;00m\u001B[38;5;250m \u001B[39mdatetime\u001B[38;5;241m.\u001B[39mdatetime\u001B[38;5;241m.\u001B[39mnow()\u001B[38;5;132;01m}\u001B[39;00m\u001B[38;5;124m; function name: \u001B[39m\u001B[38;5;132;01m{\u001B[39;00mnew_function\u001B[38;5;241m.\u001B[39m\u001B[38;5;18m__name__\u001B[39m\u001B[38;5;132;01m}\u001B[39;00m\u001B[38;5;124m; with arguments: \u001B[39m\u001B[38;5;132;01m{\u001B[39;00margs\u001B[38;5;132;01m}\u001B[39;00m\u001B[38;5;124m and \u001B[39m\u001B[38;5;132;01m{\u001B[39;00mkwargs\u001B[38;5;132;01m}\u001B[39;00m\u001B[38;5;124m; returned: \u001B[39m\u001B[38;5;132;01m{\u001B[39;00mresult\u001B[38;5;132;01m}\u001B[39;00m\u001B[38;5;124m'\u001B[39m)\n\u001B[0;32m     15\u001B[0m     \u001B[38;5;28;01mreturn\u001B[39;00m result\n",
      "File \u001B[1;32mI:\\Projects\\decorators\\venv\\Lib\\site-packages\\IPython\\core\\interactiveshell.py:284\u001B[0m, in \u001B[0;36m_modified_open\u001B[1;34m(file, *args, **kwargs)\u001B[0m\n\u001B[0;32m    277\u001B[0m \u001B[38;5;28;01mif\u001B[39;00m file \u001B[38;5;129;01min\u001B[39;00m {\u001B[38;5;241m0\u001B[39m, \u001B[38;5;241m1\u001B[39m, \u001B[38;5;241m2\u001B[39m}:\n\u001B[0;32m    278\u001B[0m     \u001B[38;5;28;01mraise\u001B[39;00m \u001B[38;5;167;01mValueError\u001B[39;00m(\n\u001B[0;32m    279\u001B[0m         \u001B[38;5;124mf\u001B[39m\u001B[38;5;124m\"\u001B[39m\u001B[38;5;124mIPython won\u001B[39m\u001B[38;5;124m'\u001B[39m\u001B[38;5;124mt let you open fd=\u001B[39m\u001B[38;5;132;01m{\u001B[39;00mfile\u001B[38;5;132;01m}\u001B[39;00m\u001B[38;5;124m by default \u001B[39m\u001B[38;5;124m\"\u001B[39m\n\u001B[0;32m    280\u001B[0m         \u001B[38;5;124m\"\u001B[39m\u001B[38;5;124mas it is likely to crash IPython. If you know what you are doing, \u001B[39m\u001B[38;5;124m\"\u001B[39m\n\u001B[0;32m    281\u001B[0m         \u001B[38;5;124m\"\u001B[39m\u001B[38;5;124myou can use builtins\u001B[39m\u001B[38;5;124m'\u001B[39m\u001B[38;5;124m open.\u001B[39m\u001B[38;5;124m\"\u001B[39m\n\u001B[0;32m    282\u001B[0m     )\n\u001B[1;32m--> 284\u001B[0m \u001B[38;5;28;01mreturn\u001B[39;00m \u001B[43mio_open\u001B[49m\u001B[43m(\u001B[49m\u001B[43mfile\u001B[49m\u001B[43m,\u001B[49m\u001B[43m \u001B[49m\u001B[38;5;241;43m*\u001B[39;49m\u001B[43margs\u001B[49m\u001B[43m,\u001B[49m\u001B[43m \u001B[49m\u001B[38;5;241;43m*\u001B[39;49m\u001B[38;5;241;43m*\u001B[39;49m\u001B[43mkwargs\u001B[49m\u001B[43m)\u001B[49m\n",
      "\u001B[1;31mFileNotFoundError\u001B[0m: [Errno 2] No such file or directory: 'data/main_2.log'"
     ]
    }
   ],
   "source": [
    "import os\n",
    "from functools import wraps\n",
    "import logging\n",
    "import datetime\n",
    "\n",
    "def logger(path):\n",
    "   \n",
    "    def __logger(old_function):\n",
    "        @wraps(old_function)\n",
    "        def new_function(*args, **kwargs):            \n",
    "            result = old_function(*args, **kwargs)\n",
    "            with open (path, 'a', encoding='utf-8') as f_log:\n",
    "                f_log.write(f'\\ncall time: { datetime.datetime.now()}; function name: {new_function.__name__}; with arguments: {args} and {kwargs}; returned: {result}')\n",
    "                \n",
    "            return result\n",
    "        return new_function\n",
    "\n",
    "    return __logger\n",
    "\n",
    "\n",
    "\n",
    "\n",
    "@logger(path='data\\main_2.log')\n",
    "def ariph(a=0, b=0):\n",
    "    res = a + b\n",
    "    return res\n",
    "\n",
    "@logger(path='data\\main_2.log')\n",
    "def hello_world():\n",
    "    return 'Hello World'\n",
    "\n",
    "print(hello_world())\n",
    "\n",
    "print(ariph(5, 5))"
   ],
   "metadata": {
    "collapsed": false,
    "ExecuteTime": {
     "end_time": "2023-08-12T10:16:20.908866800Z",
     "start_time": "2023-08-12T10:16:20.866991200Z"
    }
   },
   "id": "e6216f3b68a4a1ea"
  },
  {
   "cell_type": "code",
   "execution_count": null,
   "outputs": [],
   "source": [
    "\n",
    "def test():\n",
    "    with open('test.txt', 'r') as f:\n",
    "        for line in f:\n",
    "            print(f)"
   ],
   "metadata": {
    "collapsed": false,
    "is_executing": true
   },
   "id": "9c7143888d5dae6f"
  },
  {
   "cell_type": "code",
   "execution_count": null,
   "outputs": [],
   "source": [],
   "metadata": {
    "collapsed": false
   },
   "id": "fe95c32eb9b0b03b"
  }
 ],
 "metadata": {
  "kernelspec": {
   "display_name": "Python 3",
   "language": "python",
   "name": "python3"
  },
  "language_info": {
   "codemirror_mode": {
    "name": "ipython",
    "version": 2
   },
   "file_extension": ".py",
   "mimetype": "text/x-python",
   "name": "python",
   "nbconvert_exporter": "python",
   "pygments_lexer": "ipython2",
   "version": "2.7.6"
  }
 },
 "nbformat": 4,
 "nbformat_minor": 5
}
