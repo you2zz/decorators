{
 "cells": [
  {
   "cell_type": "code",
   "execution_count": null,
   "id": "initial_id",
   "metadata": {
    "collapsed": true
   },
   "outputs": [],
   "source": [
    "def foo():\n",
    "    print('Call')\n",
    "    \n",
    "data = [1, 2]\n",
    "\n",
    "data[0] = foo\n",
    "\n",
    "data[0]()\n",
    "\n"
   ]
  },
  {
   "cell_type": "code",
   "execution_count": null,
   "outputs": [],
   "source": [
    "def wrapper (any_funсtion, *args, **kwargs):\n",
    "    print(f'Сейчас будет вызвана функция {any_funсtion}')\n",
    "    print(f'С аргументами {args} и {kwargs}')\n",
    "    result = any_funсtion(*args, **kwargs)\n",
    "    print(f'Получен результат {result}')\n",
    "    return result\n",
    "\n",
    "wrapper(any, (False, False,0, 1))"
   ],
   "metadata": {
    "collapsed": false
   },
   "id": "24356cecfe62c60"
  },
  {
   "cell_type": "code",
   "execution_count": null,
   "outputs": [],
   "source": [
    "def foo(a, b):\n",
    "    return f'{a} {b}'\n",
    "\n",
    "wrapper(foo, 4, 'bla')"
   ],
   "metadata": {
    "collapsed": false
   },
   "id": "e5a430f054a0eae4"
  },
  {
   "cell_type": "markdown",
   "source": [],
   "metadata": {
    "collapsed": false
   },
   "id": "6c2d59ffcfc04cdb"
  },
  {
   "cell_type": "code",
   "execution_count": null,
   "outputs": [],
   "source": [
    "\n",
    "def printable(any_funсtion):\n",
    "    @wraps(any_function)\n",
    "    def new_function(*args, **kwargs):    \n",
    "        print(f'Сейчас будет вызвана функция {any_funсtion}')\n",
    "        print(f'С аргументами {args} и {kwargs}')\n",
    "        result = any_funсtion(*args, **kwargs)\n",
    "        # print(f'Получен результат {result}')\n",
    "        return result\n",
    "    return new_function\n",
    "\n",
    "def foo(a, b):\n",
    "    return f'{a} {b}'"
   ],
   "metadata": {
    "collapsed": false
   },
   "id": "fd243c6b203515dc"
  },
  {
   "cell_type": "code",
   "execution_count": null,
   "outputs": [],
   "source": [
    "foo = wrapper(foo)\n",
    "foo(1, 4)"
   ],
   "metadata": {
    "collapsed": false
   },
   "id": "6916652604c96e8"
  },
  {
   "cell_type": "code",
   "execution_count": null,
   "outputs": [],
   "source": [
    "@printable\n",
    "def foo(a, b):\n",
    "    return f'{a} {b}'\n",
    "\n",
    "foo(1, 4)"
   ],
   "metadata": {
    "collapsed": false
   },
   "id": "1183a77263974c45"
  },
  {
   "cell_type": "code",
   "execution_count": null,
   "outputs": [],
   "source": [
    "@printable\n",
    "def bar():\n",
    "    print('bar')\n",
    "    \n",
    "\n",
    "bar()"
   ],
   "metadata": {
    "collapsed": false
   },
   "id": "708aa9df167f5143"
  },
  {
   "cell_type": "code",
   "execution_count": null,
   "outputs": [],
   "source": [
    "import requests\n",
    "import datetime\n",
    "from functools import wraps\n",
    "\n",
    "def printable(any_funсtion):\n",
    "    @wraps(any_funсtion)\n",
    "    def new_function(*args, **kwargs):    \n",
    "        print(f'Сейчас будет вызвана функция {any_funсtion.__name__}')\n",
    "        print(f'С аргументами {args} и {kwargs}')\n",
    "        result = any_funсtion(*args, **kwargs)\n",
    "        # print(f'Получен результат {result}')\n",
    "        return result\n",
    "    return new_function\n",
    "\n",
    "\n",
    "def speed_check(any_function):\n",
    "    @wraps(any_function)\n",
    "    def new_function(*args, **kwargs):\n",
    "        start = datetime.datetime.now()\n",
    "        result = any_function(*args, **kwargs)\n",
    "        work_time = datetime.datetime.now() - start\n",
    "        print(f'work time {new_function.__name__}: {work_time}')\n",
    "        return result\n",
    "    return new_function\n",
    "        \n",
    "        \n",
    "@speed_check\n",
    "@printable\n",
    "def get_swapi_person(person_id):\n",
    "    return requests.get(f'https://swapi.py4e.com/api/people/{person_id}').json()\n",
    "\n",
    "get_swapi_person(3)\n",
    "\n",
    "# print(person)\n",
    "\n"
   ],
   "metadata": {
    "collapsed": false
   },
   "id": "bfe949c0703685ff"
  },
  {
   "cell_type": "code",
   "execution_count": null,
   "outputs": [],
   "source": [
    "# ШАБЛОН ДЕКОРАТОРА\n",
    "\n",
    "def cashed(any_function):\n",
    "\n",
    "    def new_function(*args, **kwargs):\n",
    "\n",
    "        result = any_function(*args, **kwargs)\n",
    "        \n",
    "        return result\n",
    "    \n",
    "    return new_function"
   ],
   "metadata": {
    "collapsed": false
   },
   "id": "fd3b4ca630ef86ae"
  }
 ],
 "metadata": {
  "kernelspec": {
   "display_name": "Python 3",
   "language": "python",
   "name": "python3"
  },
  "language_info": {
   "codemirror_mode": {
    "name": "ipython",
    "version": 2
   },
   "file_extension": ".py",
   "mimetype": "text/x-python",
   "name": "python",
   "nbconvert_exporter": "python",
   "pygments_lexer": "ipython2",
   "version": "2.7.6"
  }
 },
 "nbformat": 4,
 "nbformat_minor": 5
}
