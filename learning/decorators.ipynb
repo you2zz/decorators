{
 "cells": [
  {
   "cell_type": "code",
   "execution_count": 12,
   "id": "initial_id",
   "metadata": {
    "collapsed": true,
    "ExecuteTime": {
     "end_time": "2023-08-08T09:09:45.256902400Z",
     "start_time": "2023-08-08T09:09:45.243835300Z"
    }
   },
   "outputs": [
    {
     "name": "stdout",
     "output_type": "stream",
     "text": [
      "Call\n"
     ]
    }
   ],
   "source": [
    "def foo():\n",
    "    print('Call')\n",
    "    \n",
    "data = [1, 2]\n",
    "\n",
    "data[0] = foo\n",
    "\n",
    "data[0]()\n",
    "\n"
   ]
  },
  {
   "cell_type": "code",
   "execution_count": 22,
   "outputs": [
    {
     "name": "stdout",
     "output_type": "stream",
     "text": [
      "Сейчас будет вызвана функция <built-in function any>\n",
      "С аргументами ((False, False, 0, 1),) и {}\n",
      "Получен результат True\n"
     ]
    },
    {
     "data": {
      "text/plain": "True"
     },
     "execution_count": 22,
     "metadata": {},
     "output_type": "execute_result"
    }
   ],
   "source": [
    "def wrapper (any_funсtion, *args, **kwargs):\n",
    "    print(f'Сейчас будет вызвана функция {any_funсtion}')\n",
    "    print(f'С аргументами {args} и {kwargs}')\n",
    "    result = any_funсtion(*args, **kwargs)\n",
    "    print(f'Получен результат {result}')\n",
    "    return result\n",
    "\n",
    "wrapper(any, (False, False,0, 1))"
   ],
   "metadata": {
    "collapsed": false,
    "ExecuteTime": {
     "end_time": "2023-08-08T09:24:17.133924900Z",
     "start_time": "2023-08-08T09:24:17.124260500Z"
    }
   },
   "id": "24356cecfe62c60"
  }
 ],
 "metadata": {
  "kernelspec": {
   "display_name": "Python 3",
   "language": "python",
   "name": "python3"
  },
  "language_info": {
   "codemirror_mode": {
    "name": "ipython",
    "version": 2
   },
   "file_extension": ".py",
   "mimetype": "text/x-python",
   "name": "python",
   "nbconvert_exporter": "python",
   "pygments_lexer": "ipython2",
   "version": "2.7.6"
  }
 },
 "nbformat": 4,
 "nbformat_minor": 5
}
